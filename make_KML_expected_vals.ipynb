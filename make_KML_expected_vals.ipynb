{
 "metadata": {
  "name": "",
  "signature": "sha256:25a22ffe59e7105aff2bebb88d35894835dd4b505d507bde08b0d48ca7008fac"
 },
 "nbformat": 3,
 "nbformat_minor": 0,
 "worksheets": [
  {
   "cells": [
    {
     "cell_type": "heading",
     "level": 1,
     "metadata": {},
     "source": [
      "Make a KML showing a scenario across all 5 models for each spatial unit"
     ]
    },
    {
     "cell_type": "markdown",
     "metadata": {},
     "source": [
      "We'll start with importing some packages as usual"
     ]
    },
    {
     "cell_type": "code",
     "collapsed": false,
     "input": [
      "import os\n",
      "import pickle\n",
      "import copy\n",
      "import matplotlib.pyplot as plt\n",
      "from scipy import interpolate\n",
      "\n",
      "from extrap1d import extrap1d\n",
      "#### UUUGGGHHHH I should not import a package with *, sorry, my bad programming\n",
      "from separators import *"
     ],
     "language": "python",
     "metadata": {},
     "outputs": [],
     "prompt_number": 7
    },
    {
     "cell_type": "markdown",
     "metadata": {},
     "source": [
      "Below, some functions are defined"
     ]
    },
    {
     "cell_type": "code",
     "collapsed": false,
     "input": [
      "def int_return_period(raw_data, periods, time_line):\n",
      "    \"\"\"\n",
      "    This function linearly interpolates and extrapolates data for a \n",
      "    small amount of moments in time, to a lot of moments in time\n",
      "    input:\n",
      "        raw_data -- 2D array containing several data sets to interpolate \n",
      "            (axis=0) is assumed to be interpolation direction\n",
      "        periods -- vector (equal size as axis=0 of raw_data) with the moments in time\n",
      "        time_line -- vector, moments in time over which to inter/extrapolate\n",
      "    output:\n",
      "        int_data -- array of interpolated/extrapolated values\n",
      "    \"\"\"\n",
      "    int_func = interpolate.interp1d(np.array(periods), np.array(raw_data), axis=0)\n",
      "    # make sure you can also extrapolate with the function\n",
      "    extr_func = extrap1d(int_func)\n",
      "    int_data = extr_func(time_line)\n",
      "    return int_data\n",
      "\n",
      "def expected_value(values, RPs, RP_zero, RP_infinite):\n",
      "    \"\"\"\n",
      "    Input:\n",
      "        values: 2D array MxN\n",
      "            M: several time periods\n",
      "            N: several return periods\n",
      "        RPs: return periods (equal to length of N)\n",
      "        RP_zero: return period at which to break the EP-curve to zero\n",
      "        RP_infinite: return period close to the infinitely high return period\n",
      "    Output:\n",
      "        vector with expected values for each time period\n",
      "    \"\"\"\n",
      "    RPs = np.append(RP_zero, np.array(RPs))\n",
      "    RPs = np.append(np.array(RPs), RP_infinite)\n",
      "    prob = 1./RPs\n",
      "    values = np.array(values)\n",
      "    values = np.append(0., values)\n",
      "    values = np.append(values, values[-1])\n",
      "    # any value <= safety level is set to zero before integration\n",
      "    values[RPs <= RP_zero] = 0.\n",
      "    # compute probability from return periods\n",
      "    exp_val = np.trapz(np.flipud(values),np.flipud(prob))\n",
      "    return exp_val\n",
      "\n",
      "def plot_hessel_s_balls(ratios=[0.4,0.3,0.3], start=0., \n",
      "                        X=0, Y=0, radius=1., \n",
      "                        colors=['red','blue','green','yellow','magenta','purple'], \n",
      "                        edgecolor='k', labels=''):\n",
      "\n",
      "    plt.pie(ratios, colors=colors, radius=radius, startangle=start, labels=labels)\n",
      "    #plt.axes(aspect=1)\n",
      "#    # determine locations on map\n",
      "#    X, Y = m(lon, lat)\n",
      "    # first convert ratios to numpy and normalize so that the sum = 1\n",
      "\n",
      "def time_exp_vals_balls(data_cc, data_socio, data_both, RPs,\n",
      "                        gcms, unit_name, ssp, rcp, time_line, time_point, title,\n",
      "                        rp_zero=1.5, rp_inf=1.e6, plot_power=0.75, png_file=None):\n",
      "        \n",
      "    # find index closest to the wanted year\n",
      "    [idx, year] = min(enumerate(time_line), key=lambda x: abs(x[1]-time_point))\n",
      "    # find the 2010 value\n",
      "    [idx_base, year_base] = min(enumerate(time_line), key=lambda x: abs(x[1]-2010))\n",
      "    \n",
      "    formatter = FuncFormatter(thousands) \n",
      "    # compute highest possible expected values\n",
      "    exp_val = expected_value(data_both[0][idx_base], RPs, 1.5, rp_inf)\n",
      "    max_size = exp_val**plot_power\n",
      "    for n, gcm in enumerate(gcms):\n",
      "        exp_val = expected_value(data_both[n][idx], RPs, 1.5, rp_inf)\n",
      "        max_size = np.maximum(max_size, exp_val**plot_power)\n",
      "    \n",
      "    # compute expected values\n",
      "    exp_val_present = expected_value(data_both[0][idx_base], RPs, rp_zero, rp_inf)\n",
      "    present_size = exp_val_present**plot_power\n",
      "    #max_size = present_size\n",
      "    change_ssp_frac = []\n",
      "    change_rcp_frac = []\n",
      "    exp_val_both = []\n",
      "    change_size =[]\n",
      "    change_tot = []\n",
      "    for n, gcm in enumerate(gcms):\n",
      "        exp_val_cc = expected_value(data_cc[n][idx], RPs, rp_zero, rp_inf)\n",
      "        exp_val_socio = expected_value(data_socio[n][idx], RPs, rp_zero, rp_inf)\n",
      "        exp_val_both.append(expected_value(data_both[n][idx], RPs, rp_zero, rp_inf))\n",
      "        \n",
      "    \n",
      "        change_ssp = exp_val_socio/exp_val_present - 1.\n",
      "        change_rcp = exp_val_cc/exp_val_present - 1.\n",
      "        change_tot.append(exp_val_both[-1]/exp_val_present - 1.)\n",
      "\n",
      "        change_ssp_frac.append(np.minimum(np.maximum(change_ssp/(change_ssp+change_rcp)*0.5, 0), 0.5))\n",
      "        change_rcp_frac.append(np.minimum(np.maximum(change_rcp/(change_ssp+change_rcp)*0.5, 0), 0.5))\n",
      "        change_size.append(exp_val_both[-1]**plot_power)\n",
      "        #max_size = np.maximum(max_size, change_size[-1])\n",
      "\n",
      "    # plot the first GCM only\n",
      "    f = plt.figure(figsize(15,3.5))\n",
      "    \n",
      "    #ax = plt.axes(aspect=1)\n",
      "    for n, gcm in enumerate(gcms):\n",
      "        ax = plt.subplot(1,5,n+1)\n",
      "        plot_hessel_s_balls(ratios=[0.5],start=90., radius=present_size/max_size, colors=['grey'],\n",
      "                            labels=[str('{:,.0f}').format(exp_val_present - exp_val_present % 1000)])\n",
      "        plot_hessel_s_balls(ratios=[change_rcp_frac[n], change_ssp_frac[n]], start=270.,\n",
      "                            radius=change_size[n]/max_size, colors=['#3A6EA5','red'],\n",
      "                            labels=[str('{:,.0f}').format(exp_val_both[n] - exp_val_both[n] % 1000), ''])\n",
      "        # plot an infinitely small part for the change label\n",
      "        max_radius = np.maximum(change_size[n], present_size)/max_size\n",
      "        plot_hessel_s_balls(ratios=[0.], start=90.,\n",
      "                            radius=max_radius, colors=['k'],\n",
      "                            labels=[str('risk change: {:.0f} %').format(change_tot[n]*100)])\n",
      "        len(change_rcp_frac)\n",
      "        plt.title(str('{:s}\\n cc: {:.0f}% s-e: {:.0f}%').format(gcm, change_rcp_frac[n]/0.005, change_ssp_frac[n]/0.005))\n",
      "    plt.suptitle(str(u'{:s}: {:s}').format(unit_name, title), y=0.05)\n",
      "    if png_file:\n",
      "        plt.savefig(png_file)\n",
      "        plt.close('all')\n"
     ],
     "language": "python",
     "metadata": {},
     "outputs": [],
     "prompt_number": 8
    },
    {
     "cell_type": "code",
     "collapsed": false,
     "input": [
      "src_folder = r'..\\pickle\\HydroSHEDS'\n",
      "indicator = 'indicator_3'    # this is the affected population indicator\n",
      "file_suffix = '_per_unit.pickle'\n",
      "periods = [2030, 2080]  # periods at which we have data\n",
      "time_line = np.arange(2000,2100)  # years for which to interpolate/extrapolate\n",
      "gcms = ['GFDL-ESM2M',\n",
      "    'HadGEM2-ES',\n",
      "    'IPSL-CM5A-LR',\n",
      "    'MIROC-ESM-CHEM',\n",
      "    'NorESM1-M']\n",
      "ssp = 'SSP3'\n",
      "rcp = 'rcp8p5'\n",
      "RPs = [2, 5, 10, 25, 50, 100, 250, 500, 1000]\n",
      "\n",
      "periods_with_base = copy.copy(periods)\n",
      "periods_with_base.insert(0, 2010)\n",
      "\n",
      "period_plot = 2040\n",
      "\n",
      "KMLFile = str('{:s}_{:s}_{:d}.kml').format(ssp, rcp, period_plot)\n",
      "png_folder = 'png'"
     ],
     "language": "python",
     "metadata": {},
     "outputs": [],
     "prompt_number": 9
    },
    {
     "cell_type": "code",
     "collapsed": false,
     "input": [],
     "language": "python",
     "metadata": {},
     "outputs": [],
     "prompt_number": 9
    },
    {
     "cell_type": "markdown",
     "metadata": {},
     "source": [
      "We'll start making a KML file with first header inputs"
     ]
    },
    {
     "cell_type": "code",
     "collapsed": false,
     "input": [
      "header = \"\"\"<?xml version=\"1.0\" encoding=\"UTF-8\"?>\n",
      "<kml xmlns=\"http://www.opengis.net/kml/2.2\" xmlns:gx=\"http://www.google.com/kml/ext/2.2\" xmlns:kml=\"http://www.opengis.net/kml/2.2\" xmlns:atom=\"http://www.w3.org/2005/Atom\">\n",
      "<Document>\n",
      "    <name>{title:s}</name>\n",
      "    <Style id=\"s_ylw-pushpin\">\n",
      "\t\t<IconStyle>\n",
      "\t\t\t<scale>3.4</scale>\n",
      "\t\t\t<Icon>\n",
      "\t\t\t\t<href>http://maps.google.com/mapfiles/kml/shapes/rainy.png</href>\n",
      "\t\t\t</Icon>\n",
      "\t\t\t<hotSpot x=\"0.5\" y=\"0\" xunits=\"fraction\" yunits=\"fraction\"/>\n",
      "\t\t</IconStyle>\n",
      "\t\t<ListStyle>\n",
      "\t\t</ListStyle>\n",
      "\t</Style>\n",
      "\t<StyleMap id=\"m_ylw-pushpin\">\n",
      "\t\t<Pair>\n",
      "\t\t\t<key>normal</key>\n",
      "\t\t\t<styleUrl>#s_ylw-pushpin</styleUrl>\n",
      "\t\t</Pair>\n",
      "\t\t<Pair>\n",
      "\t\t\t<key>highlight</key>\n",
      "\t\t\t<styleUrl>#s_ylw-pushpin_hl</styleUrl>\n",
      "\t\t</Pair>\n",
      "\t</StyleMap>\n",
      "\t<Style id=\"s_ylw-pushpin_hl\">\n",
      "\t\t<IconStyle>\n",
      "\t\t\t<scale>4.01818</scale>\n",
      "\t\t\t<Icon>\n",
      "\t\t\t\t<href>http://maps.google.com/mapfiles/kml/shapes/rainy.png</href>\n",
      "\t\t\t</Icon>\n",
      "\t\t\t<hotSpot x=\"0.5\" y=\"0\" xunits=\"fraction\" yunits=\"fraction\"/>\n",
      "\t\t</IconStyle>\n",
      "\t\t<ListStyle>\n",
      "\t\t</ListStyle>\n",
      "\t</Style>\n",
      "\"\"\"\n",
      "f = open(KMLFile, 'w')\n",
      "f.write(header.format(title=KMLFile))\n",
      "f.close()\n"
     ],
     "language": "python",
     "metadata": {},
     "outputs": [],
     "prompt_number": 10
    },
    {
     "cell_type": "markdown",
     "metadata": {},
     "source": [
      "define a template for each pinpoint"
     ]
    },
    {
     "cell_type": "code",
     "collapsed": false,
     "input": [
      "template = \"\"\"\t<Placemark>\n",
      "\t\t<name>{place_name:s}</name>\n",
      "\t\t<description><![CDATA[Risk at {place_name:s} <img src=\"{png_folder:s}/{png_file:s}\"/>]]></description>\n",
      "\t\t<LookAt>\n",
      "\t\t\t<longitude>{x_coord:f}</longitude>\n",
      "\t\t\t<latitude>{y_coord:f}</latitude>\n",
      "\t\t\t<altitude>0</altitude>\n",
      "\t\t\t<heading>-0.3</heading>\n",
      "\t\t\t<tilt>0</tilt>\n",
      "\t\t\t<range>11489896.19765789</range>\n",
      "\t\t\t<gx:altitudeMode>relativeToSeaFloor</gx:altitudeMode>\n",
      "\t\t</LookAt>\n",
      "\t\t<styleUrl>#m_ylw-pushpin</styleUrl>\n",
      "\t\t<gx:balloonVisibility>0</gx:balloonVisibility>\n",
      "\t\t<Point>\n",
      "\t\t\t<gx:drawOrder>1</gx:drawOrder>\n",
      "\t\t\t<coordinates>{x_coord:f},{y_coord:f},0</coordinates>\n",
      "\t\t</Point>\n",
      "\t</Placemark>\n",
      "\n",
      "\"\"\"\n",
      "print(template.format(place_name='somewhere', png_folder=png_folder, png_file='somewhere.png', x_coord=-20.567, y_coord=4.56378))"
     ],
     "language": "python",
     "metadata": {},
     "outputs": [
      {
       "output_type": "stream",
       "stream": "stdout",
       "text": [
        "\t<Placemark>\n",
        "\t\t<name>somewhere</name>\n",
        "\t\t<description><![CDATA[Risk at somewhere <img src=\"png/somewhere.png\"/>]]></description>\n",
        "\t\t<LookAt>\n",
        "\t\t\t<longitude>-20.567000</longitude>\n",
        "\t\t\t<latitude>4.563780</latitude>\n",
        "\t\t\t<altitude>0</altitude>\n",
        "\t\t\t<heading>-0.3</heading>\n",
        "\t\t\t<tilt>0</tilt>\n",
        "\t\t\t<range>11489896.19765789</range>\n",
        "\t\t\t<gx:altitudeMode>relativeToSeaFloor</gx:altitudeMode>\n",
        "\t\t</LookAt>\n",
        "\t\t<styleUrl>#m_ylw-pushpin</styleUrl>\n",
        "\t\t<gx:balloonVisibility>0</gx:balloonVisibility>\n",
        "\t\t<Point>\n",
        "\t\t\t<gx:drawOrder>1</gx:drawOrder>\n",
        "\t\t\t<coordinates>-20.567000,4.563780,0</coordinates>\n",
        "\t\t</Point>\n",
        "\t</Placemark>\n",
        "\n",
        "\n"
       ]
      }
     ],
     "prompt_number": 11
    },
    {
     "cell_type": "markdown",
     "metadata": {},
     "source": [
      "the template looks good. Now we'll loop over all units to get the data in"
     ]
    },
    {
     "cell_type": "code",
     "collapsed": false,
     "input": [
      "pickle_file = os.path.join(src_folder, '%s%s') % (indicator, file_suffix)\n",
      "# the pickle file contains, for the given indicator per unit all ssps, rcps, gcms and return period information\n",
      "# data is organised as a dictionary as follows: \n",
      "# data[unit_nr][name] :  name of unit\n",
      "# data[unit_nr][lon]  :  longitude coordinate of centre of unit\n",
      "# data[unit_nr][lat]  :  latitude coordinate of centre of unit\n",
      "# data[unit_nr][data] :  data in the unit\n",
      "# data[unit_nr][data][ssp] : data for given ssp scenario (children contain all rcp/gcm combinations)\n",
      "# data[unit_nr][data][ssp][rcp] : data for given ssp and rcp scenario (children contain all gcm combinations)\n",
      "# data[unit_nr][data][ssp][rcp][gcm] : data for given ssp and rcp scenario, for a given gcm run (5 in total)\n",
      "# data[unit_nr][data][ssp][rcp][gcm][period] : return period impact values (9 return periods) in the given period for ssp/rcp/gcm combi\n",
      "\n",
      "with open(pickle_file) as f:\n",
      "    data = pickle.load(f)[0]\n",
      "    \n",
      "\n",
      "f = open(KMLFile, 'a')\n",
      "\n",
      "# prepare a list of 5, one for each GCM: containing an MxN array\n",
      "# M: amount of moments in time where we have data\n",
      "# N: amount of return periods available\n",
      "for unit in range(len(data)):\n",
      "    print('Preparing {:s}'.format(data[unit]['name']))\n",
      "    png_file = str('{:s}_{:s}_{:d}_{:d}.png').format(ssp, rcp, period_plot, unit)\n",
      "    rp_data_collect_cc = []\n",
      "    rp_data_collect_socio = []\n",
      "    rp_data_collect_both = []\n",
      "    for gcm in gcms:\n",
      "        # first add data for 2010 reference\n",
      "        rp_data_cc = []   # data with climate change only\n",
      "        rp_data_socio = []  # data with socio eco change only\n",
      "        rp_data_both = []  # data with both climate and socio eco change\n",
      "        rp_data_cc.append(data[unit]['data']['base']['historical']['HadGEM2-ES']['2010'])\n",
      "        rp_data_socio.append(data[unit]['data']['base']['historical']['HadGEM2-ES']['2010'])\n",
      "        rp_data_both.append(data[unit]['data']['base']['historical']['HadGEM2-ES']['2010'])\n",
      "        # retrieve data for 2030 and 2080\n",
      "        for period in periods:\n",
      "            rp_data_socio.append(data[unit]['data'][ssp]['historical'][gcm][str(period)])\n",
      "            rp_data_cc.append(data[unit]['data']['base'][rcp][gcm][str(period)])\n",
      "            rp_data_both.append(data[unit]['data'][ssp][rcp][gcm][str(period)])\n",
      "        #print np.array(rp_data).shape\n",
      "        #print periods\n",
      "        int_rp_data_cc = int_return_period(rp_data_cc, periods_with_base, time_line)  # interpolate data\n",
      "        int_rp_data_socio = int_return_period(rp_data_socio, periods_with_base, time_line)  # interpolate data\n",
      "        int_rp_data_both = int_return_period(rp_data_both, periods_with_base, time_line)  # interpolate data\n",
      "\n",
      "    #    # now determine the expected values, we assume that we can break the risk curve at rp=1.5\n",
      "    #    exp_vals_cc = expected_values(int_rp_data_cc, RPs, 1.5, 1e6)\n",
      "    #    exp_vals_socio = expected_values(int_rp_data_socio, RPs, 1.5, 1e6)\n",
      "    #    exp_vals_both = expected_values(int_rp_data_both, RPs, 1.5, 1e6)\n",
      "\n",
      "\n",
      "        rp_data_collect_cc.append(int_rp_data_cc)\n",
      "        rp_data_collect_socio.append(int_rp_data_socio)\n",
      "        rp_data_collect_both.append(int_rp_data_both)\n",
      "    try:\n",
      "        time_exp_vals_balls(rp_data_collect_cc, rp_data_collect_socio, rp_data_collect_both, RPs,\n",
      "                                gcms, str(u'{:s}').format(data[unit]['name']), ssp, rcp,\n",
      "                                time_line, period_plot,  'Affected people per year [-]',\n",
      "                                png_file=os.path.join(png_folder, png_file))\n",
      "    except:\n",
      "        print('difficulty saving {:s}').format(data[unit]['name']) \n",
      "    #plt.show()\n",
      "    #plt.savefig(os.path.join(png_folder, png_file))\n",
      "    #plt.close('all')\n",
      "    # write to KML\n",
      "    f.write(template.format(place_name=data[unit]['name'], png_folder=png_folder,\n",
      "                            png_file=png_file, x_coord=data[unit]['lon'], y_coord=data[unit]['lat']))\n",
      "\n",
      "# done! Now write footer\n",
      "footer = str('</Document>\\n</kml>')\n",
      "f.write(footer)\n",
      "f.close()"
     ],
     "language": "python",
     "metadata": {},
     "outputs": [
      {
       "output_type": "stream",
       "stream": "stdout",
       "text": [
        "Preparing Gulf of Mexico, North Atlantic Coast\n",
        "Preparing United States, North Atlantic Coast"
       ]
      },
      {
       "output_type": "stream",
       "stream": "stdout",
       "text": [
        "\n",
        "Preparing Mississippi - Missouri"
       ]
      },
      {
       "output_type": "stream",
       "stream": "stdout",
       "text": [
        "\n",
        "Preparing Gulf Coast"
       ]
      },
      {
       "output_type": "stream",
       "stream": "stdout",
       "text": [
        "\n",
        "Preparing California"
       ]
      },
      {
       "output_type": "stream",
       "stream": "stdout",
       "text": [
        "\n",
        "Preparing Great Basin"
       ]
      },
      {
       "output_type": "stream",
       "stream": "stdout",
       "text": [
        "\n",
        "Preparing North America, Colorado"
       ]
      },
      {
       "output_type": "stream",
       "stream": "stdout",
       "text": [
        "\n",
        "Preparing Columbia and Northwestern United States"
       ]
      },
      {
       "output_type": "stream",
       "stream": "stdout",
       "text": [
        "\n",
        "Preparing Fraser"
       ]
      },
      {
       "output_type": "stream",
       "stream": "stdout",
       "text": [
        "\n",
        "Preparing Pacific and Arctic Coast"
       ]
      },
      {
       "output_type": "stream",
       "stream": "stdout",
       "text": [
        "\n",
        "Preparing Saskatchewan - Nelson"
       ]
      },
      {
       "output_type": "stream",
       "stream": "stdout",
       "text": [
        "\n",
        "Preparing Northwest Territories"
       ]
      },
      {
       "output_type": "stream",
       "stream": "stdout",
       "text": [
        "\n",
        "Preparing Hudson Bay Coast"
       ]
      },
      {
       "output_type": "stream",
       "stream": "stdout",
       "text": [
        "\n",
        "Preparing Atlantic Ocean Seaboard"
       ]
      },
      {
       "output_type": "stream",
       "stream": "stdout",
       "text": [
        "\n",
        "Preparing Churchill"
       ]
      },
      {
       "output_type": "stream",
       "stream": "stdout",
       "text": [
        "\n",
        "Preparing St Lawrence"
       ]
      },
      {
       "output_type": "stream",
       "stream": "stdout",
       "text": [
        "\n",
        "Preparing St John"
       ]
      },
      {
       "output_type": "stream",
       "stream": "stdout",
       "text": [
        "\n",
        "Preparing Mackenzie"
       ]
      },
      {
       "output_type": "stream",
       "stream": "stdout",
       "text": [
        "\n",
        "Preparing R\u00edo Grande - Bravo"
       ]
      },
      {
       "output_type": "stream",
       "stream": "stdout",
       "text": [
        "\n",
        "difficulty saving R\u00edo Grande - Bravo"
       ]
      },
      {
       "output_type": "stream",
       "stream": "stdout",
       "text": [
        "\n",
        "Preparing Mexico, Northwest Coast\n",
        "Preparing Baja California"
       ]
      },
      {
       "output_type": "stream",
       "stream": "stdout",
       "text": [
        "\n",
        "Preparing Mexico, Interior"
       ]
      },
      {
       "output_type": "stream",
       "stream": "stdout",
       "text": [
        "\n",
        "Preparing North Gulf"
       ]
      },
      {
       "output_type": "stream",
       "stream": "stdout",
       "text": [
        "\n",
        "Preparing R\u00edo Verde"
       ]
      },
      {
       "output_type": "stream",
       "stream": "stdout",
       "text": [
        "\n",
        "difficulty saving R\u00edo Verde"
       ]
      },
      {
       "output_type": "stream",
       "stream": "stdout",
       "text": [
        "\n",
        "Preparing R\u00edo Lerma\n",
        "difficulty saving R\u00edo Lerma"
       ]
      },
      {
       "output_type": "stream",
       "stream": "stdout",
       "text": [
        "\n",
        "Preparing Pacific Central Coast\n",
        "Preparing R\u00edo Balsas"
       ]
      },
      {
       "output_type": "stream",
       "stream": "stdout",
       "text": [
        "\n",
        "difficulty saving R\u00edo Balsas"
       ]
      },
      {
       "output_type": "stream",
       "stream": "stdout",
       "text": [
        "\n",
        "Preparing Papaloapan\n",
        "Preparing Isthmus of Tehuantepec"
       ]
      },
      {
       "output_type": "stream",
       "stream": "stdout",
       "text": [
        "\n",
        "Preparing Grijalva - Usumacinta"
       ]
      },
      {
       "output_type": "stream",
       "stream": "stdout",
       "text": [
        "\n",
        "Preparing Yucat\u00e1n Peninsula"
       ]
      },
      {
       "output_type": "stream",
       "stream": "stdout",
       "text": [
        "\n",
        "difficulty saving Yucat\u00e1n Peninsula"
       ]
      },
      {
       "output_type": "stream",
       "stream": "stdout",
       "text": [
        "\n",
        "Preparing Southern Central America\n",
        "Preparing Caribbean"
       ]
      },
      {
       "output_type": "stream",
       "stream": "stdout",
       "text": [
        "\n",
        "Preparing Caribbean Coast"
       ]
      },
      {
       "output_type": "stream",
       "stream": "stdout",
       "text": [
        "\n",
        "Preparing Magdalena"
       ]
      },
      {
       "output_type": "stream",
       "stream": "stdout",
       "text": [
        "\n",
        "Preparing Orinoco"
       ]
      },
      {
       "output_type": "stream",
       "stream": "stdout",
       "text": [
        "\n",
        "Preparing Northeast South America, South Atlantic Coast"
       ]
      },
      {
       "output_type": "stream",
       "stream": "stdout",
       "text": [
        "\n",
        "Preparing Amazon"
       ]
      },
      {
       "output_type": "stream",
       "stream": "stdout",
       "text": [
        "\n",
        "Preparing Tocantins"
       ]
      },
      {
       "output_type": "stream",
       "stream": "stdout",
       "text": [
        "\n",
        "Preparing North Brazil, South Atlantic Coast"
       ]
      },
      {
       "output_type": "stream",
       "stream": "stdout",
       "text": [
        "\n",
        "Preparing Parnaiba"
       ]
      },
      {
       "output_type": "stream",
       "stream": "stdout",
       "text": [
        "\n",
        "Preparing East Brazil, South Atlantic Coast"
       ]
      },
      {
       "output_type": "stream",
       "stream": "stdout",
       "text": [
        "\n",
        "Preparing Sao Francisco"
       ]
      },
      {
       "output_type": "stream",
       "stream": "stdout",
       "text": [
        "\n",
        "Preparing Uruguay - Brazil, South Atlantic Coast"
       ]
      },
      {
       "output_type": "stream",
       "stream": "stdout",
       "text": [
        "\n",
        "Preparing La Plata"
       ]
      },
      {
       "output_type": "stream",
       "stream": "stdout",
       "text": [
        "\n",
        "Preparing North Argentina, South Atlantic Coast"
       ]
      },
      {
       "output_type": "stream",
       "stream": "stdout",
       "text": [
        "\n",
        "Preparing South America, Colorado"
       ]
      },
      {
       "output_type": "stream",
       "stream": "stdout",
       "text": [
        "\n",
        "Preparing Negro"
       ]
      },
      {
       "output_type": "stream",
       "stream": "stdout",
       "text": [
        "\n",
        "Preparing South Argentina, South Atlantic Coast"
       ]
      },
      {
       "output_type": "stream",
       "stream": "stdout",
       "text": [
        "\n",
        "Preparing Central Patagonia Highlands"
       ]
      },
      {
       "output_type": "stream",
       "stream": "stdout",
       "text": [
        "\n",
        "Preparing Colombia - Ecuador, Pacific Coast"
       ]
      },
      {
       "output_type": "stream",
       "stream": "stdout",
       "text": [
        "\n",
        "Preparing Peru, Pacific Coast"
       ]
      },
      {
       "output_type": "stream",
       "stream": "stdout",
       "text": [
        "\n",
        "Preparing North Chile, Pacific Coast"
       ]
      },
      {
       "output_type": "stream",
       "stream": "stdout",
       "text": [
        "\n",
        "Preparing South Chile, Pacific Coast"
       ]
      },
      {
       "output_type": "stream",
       "stream": "stdout",
       "text": [
        "\n",
        "Preparing La Puna Region"
       ]
      },
      {
       "output_type": "stream",
       "stream": "stdout",
       "text": [
        "\n",
        "Preparing Salinas Grandes"
       ]
      },
      {
       "output_type": "stream",
       "stream": "stdout",
       "text": [
        "\n",
        "Preparing Mar Chiquita"
       ]
      },
      {
       "output_type": "stream",
       "stream": "stdout",
       "text": [
        "\n",
        "Preparing Pampas Region"
       ]
      },
      {
       "output_type": "stream",
       "stream": "stdout",
       "text": [
        "\n",
        "Preparing Spain - Portugal, Atlantic Coast"
       ]
      },
      {
       "output_type": "stream",
       "stream": "stdout",
       "text": [
        "\n",
        "Preparing Douro"
       ]
      },
      {
       "output_type": "stream",
       "stream": "stdout",
       "text": [
        "\n",
        "Preparing Tagus"
       ]
      },
      {
       "output_type": "stream",
       "stream": "stdout",
       "text": [
        "\n",
        "Preparing Guadiana"
       ]
      },
      {
       "output_type": "stream",
       "stream": "stdout",
       "text": [
        "\n",
        "Preparing Spain, South and East Coast"
       ]
      },
      {
       "output_type": "stream",
       "stream": "stdout",
       "text": [
        "\n",
        "Preparing Guadalquivir"
       ]
      },
      {
       "output_type": "stream",
       "stream": "stdout",
       "text": [
        "\n",
        "Preparing Ebro"
       ]
      },
      {
       "output_type": "stream",
       "stream": "stdout",
       "text": [
        "\n",
        "Preparing Gironde"
       ]
      },
      {
       "output_type": "stream",
       "stream": "stdout",
       "text": [
        "\n",
        "Preparing France, West Coast"
       ]
      },
      {
       "output_type": "stream",
       "stream": "stdout",
       "text": [
        "\n",
        "Preparing Loire"
       ]
      },
      {
       "output_type": "stream",
       "stream": "stdout",
       "text": [
        "\n",
        "Preparing Seine"
       ]
      },
      {
       "output_type": "stream",
       "stream": "stdout",
       "text": [
        "\n",
        "Preparing Rh\u00f4ne"
       ]
      },
      {
       "output_type": "stream",
       "stream": "stdout",
       "text": [
        "\n",
        "difficulty saving Rh\u00f4ne"
       ]
      },
      {
       "output_type": "stream",
       "stream": "stdout",
       "text": [
        "\n",
        "Preparing France, South Coast\n",
        "Preparing England and Wales"
       ]
      },
      {
       "output_type": "stream",
       "stream": "stdout",
       "text": [
        "\n",
        "Preparing Ireland"
       ]
      },
      {
       "output_type": "stream",
       "stream": "stdout",
       "text": [
        "\n",
        "Preparing Scotland"
       ]
      },
      {
       "output_type": "stream",
       "stream": "stdout",
       "text": [
        "\n",
        "Preparing Scheldt"
       ]
      },
      {
       "output_type": "stream",
       "stream": "stdout",
       "text": [
        "\n",
        "Preparing Rhine"
       ]
      },
      {
       "output_type": "stream",
       "stream": "stdout",
       "text": [
        "\n",
        "Preparing Maas"
       ]
      },
      {
       "output_type": "stream",
       "stream": "stdout",
       "text": [
        "\n",
        "Preparing Ems - Weser"
       ]
      },
      {
       "output_type": "stream",
       "stream": "stdout",
       "text": [
        "\n",
        "Preparing Po"
       ]
      },
      {
       "output_type": "stream",
       "stream": "stdout",
       "text": [
        "\n",
        "Preparing Italy, West Coast"
       ]
      },
      {
       "output_type": "stream",
       "stream": "stdout",
       "text": [
        "\n",
        "Preparing Tiber"
       ]
      },
      {
       "output_type": "stream",
       "stream": "stdout",
       "text": [
        "\n",
        "Preparing Italy, East Coast"
       ]
      },
      {
       "output_type": "stream",
       "stream": "stdout",
       "text": [
        "\n",
        "Preparing Danube"
       ]
      },
      {
       "output_type": "stream",
       "stream": "stdout",
       "text": [
        "\n",
        "Preparing Elbe"
       ]
      },
      {
       "output_type": "stream",
       "stream": "stdout",
       "text": [
        "\n",
        "Preparing Denmark - Germany Coast"
       ]
      },
      {
       "output_type": "stream",
       "stream": "stdout",
       "text": [
        "\n",
        "Preparing Sweden"
       ]
      },
      {
       "output_type": "stream",
       "stream": "stdout",
       "text": [
        "\n",
        "Preparing Wisla"
       ]
      },
      {
       "output_type": "stream",
       "stream": "stdout",
       "text": [
        "\n",
        "Preparing Oder"
       ]
      },
      {
       "output_type": "stream",
       "stream": "stdout",
       "text": [
        "\n",
        "Preparing Adriatic Sea - Greece - Black Sea Coast"
       ]
      },
      {
       "output_type": "stream",
       "stream": "stdout",
       "text": [
        "\n",
        "Preparing Dnieper"
       ]
      },
      {
       "output_type": "stream",
       "stream": "stdout",
       "text": [
        "\n",
        "Preparing Poland Coast"
       ]
      },
      {
       "output_type": "stream",
       "stream": "stdout",
       "text": [
        "\n",
        "Preparing Neman"
       ]
      },
      {
       "output_type": "stream",
       "stream": "stdout",
       "text": [
        "\n",
        "Preparing Dniester"
       ]
      },
      {
       "output_type": "stream",
       "stream": "stdout",
       "text": [
        "\n",
        "Preparing Don"
       ]
      },
      {
       "output_type": "stream",
       "stream": "stdout",
       "text": [
        "\n",
        "Preparing Volga"
       ]
      },
      {
       "output_type": "stream",
       "stream": "stdout",
       "text": [
        "\n",
        "Preparing Ural"
       ]
      },
      {
       "output_type": "stream",
       "stream": "stdout",
       "text": [
        "\n",
        "Preparing Daugava"
       ]
      },
      {
       "output_type": "stream",
       "stream": "stdout",
       "text": [
        "\n",
        "Preparing Narva"
       ]
      },
      {
       "output_type": "stream",
       "stream": "stdout",
       "text": [
        "\n",
        "difficulty saving Narva"
       ]
      },
      {
       "output_type": "stream",
       "stream": "stdout",
       "text": [
        "\n",
        "Preparing Black Sea, North Coast\n",
        "Preparing Caspian Sea Coast"
       ]
      },
      {
       "output_type": "stream",
       "stream": "stdout",
       "text": [
        "\n",
        "Preparing Baltic Sea Coast"
       ]
      },
      {
       "output_type": "stream",
       "stream": "stdout",
       "text": [
        "\n",
        "Preparing Neva"
       ]
      },
      {
       "output_type": "stream",
       "stream": "stdout",
       "text": [
        "\n",
        "Preparing Mediterranean Sea Islands"
       ]
      },
      {
       "output_type": "stream",
       "stream": "stdout",
       "text": [
        "\n",
        "Preparing Scandinavia, North Coast"
       ]
      },
      {
       "output_type": "stream",
       "stream": "stdout",
       "text": [
        "\n",
        "Preparing Finland"
       ]
      },
      {
       "output_type": "stream",
       "stream": "stdout",
       "text": [
        "\n",
        "Preparing Russia, Barents Sea Coast"
       ]
      },
      {
       "output_type": "stream",
       "stream": "stdout",
       "text": [
        "\n",
        "Preparing Arctic Ocean Islands"
       ]
      },
      {
       "output_type": "stream",
       "stream": "stdout",
       "text": [
        "\n",
        "Preparing Northern Dvina"
       ]
      },
      {
       "output_type": "stream",
       "stream": "stdout",
       "text": [
        "\n",
        "Preparing Iceland"
       ]
      },
      {
       "output_type": "stream",
       "stream": "stdout",
       "text": [
        "\n",
        "Preparing Amur"
       ]
      },
      {
       "output_type": "stream",
       "stream": "stdout",
       "text": [
        "\n",
        "Preparing Bo Hai - Korean Bay, North Coast"
       ]
      },
      {
       "output_type": "stream",
       "stream": "stdout",
       "text": [
        "\n",
        "Preparing Russia, South East Coast"
       ]
      },
      {
       "output_type": "stream",
       "stream": "stdout",
       "text": [
        "\n",
        "Preparing Gobi Interior"
       ]
      },
      {
       "output_type": "stream",
       "stream": "stdout",
       "text": [
        "\n",
        "Preparing Ziya He, Interior"
       ]
      },
      {
       "output_type": "stream",
       "stream": "stdout",
       "text": [
        "\n",
        "Preparing Huang He"
       ]
      },
      {
       "output_type": "stream",
       "stream": "stdout",
       "text": [
        "\n",
        "Preparing Tarim Interior"
       ]
      },
      {
       "output_type": "stream",
       "stream": "stdout",
       "text": [
        "\n",
        "Preparing Plateau of Tibet Interior"
       ]
      },
      {
       "output_type": "stream",
       "stream": "stdout",
       "text": [
        "\n",
        "Preparing Yangtze"
       ]
      },
      {
       "output_type": "stream",
       "stream": "stdout",
       "text": [
        "\n",
        "Preparing China Coast"
       ]
      },
      {
       "output_type": "stream",
       "stream": "stdout",
       "text": [
        "\n",
        "Preparing Xun Jiang"
       ]
      },
      {
       "output_type": "stream",
       "stream": "stdout",
       "text": [
        "\n",
        "Preparing South China Sea Coast"
       ]
      },
      {
       "output_type": "stream",
       "stream": "stdout",
       "text": [
        "\n",
        "Preparing Kiribati - Nauru"
       ]
      },
      {
       "output_type": "stream",
       "stream": "stdout",
       "text": [
        "\n",
        "difficulty saving Kiribati - Nauru"
       ]
      },
      {
       "output_type": "stream",
       "stream": "stdout",
       "text": [
        "\n",
        "Preparing North and South Korea\n",
        "Preparing Andaman - Nicobar Islands"
       ]
      },
      {
       "output_type": "stream",
       "stream": "stdout",
       "text": [
        "\n",
        "difficulty saving Andaman - Nicobar Islands"
       ]
      },
      {
       "output_type": "stream",
       "stream": "stdout",
       "text": [
        "\n",
        "Preparing Hong (Red River)\n",
        "Preparing Viet Nam, Coast"
       ]
      },
      {
       "output_type": "stream",
       "stream": "stdout",
       "text": [
        "\n",
        "Preparing Mekong"
       ]
      },
      {
       "output_type": "stream",
       "stream": "stdout",
       "text": [
        "\n",
        "Preparing Gulf of Thailand Coast"
       ]
      },
      {
       "output_type": "stream",
       "stream": "stdout",
       "text": [
        "\n",
        "Preparing Chao Phraya"
       ]
      },
      {
       "output_type": "stream",
       "stream": "stdout",
       "text": [
        "\n",
        "Preparing Peninsula Malaysia"
       ]
      },
      {
       "output_type": "stream",
       "stream": "stdout",
       "text": [
        "\n",
        "Preparing Salween"
       ]
      },
      {
       "output_type": "stream",
       "stream": "stdout",
       "text": [
        "\n",
        "Preparing Sittang"
       ]
      },
      {
       "output_type": "stream",
       "stream": "stdout",
       "text": [
        "\n",
        "Preparing Irrawaddy"
       ]
      },
      {
       "output_type": "stream",
       "stream": "stdout",
       "text": [
        "\n",
        "Preparing Bay of Bengal, North East Coast"
       ]
      },
      {
       "output_type": "stream",
       "stream": "stdout",
       "text": [
        "\n",
        "Preparing Hainan"
       ]
      },
      {
       "output_type": "stream",
       "stream": "stdout",
       "text": [
        "\n",
        "Preparing Sumatra"
       ]
      },
      {
       "output_type": "stream",
       "stream": "stdout",
       "text": [
        "\n",
        "Preparing Java - Timor"
       ]
      },
      {
       "output_type": "stream",
       "stream": "stdout",
       "text": [
        "\n",
        "Preparing Irian Jaya Coast"
       ]
      },
      {
       "output_type": "stream",
       "stream": "stdout",
       "text": [
        "\n",
        "Preparing Taiwan"
       ]
      },
      {
       "output_type": "stream",
       "stream": "stdout",
       "text": [
        "\n",
        "Preparing Sulawesi"
       ]
      },
      {
       "output_type": "stream",
       "stream": "stdout",
       "text": [
        "\n",
        "Preparing Kalimantan"
       ]
      },
      {
       "output_type": "stream",
       "stream": "stdout",
       "text": [
        "\n",
        "Preparing North Borneo Coast"
       ]
      },
      {
       "output_type": "stream",
       "stream": "stdout",
       "text": [
        "\n",
        "Preparing Philippines"
       ]
      },
      {
       "output_type": "stream",
       "stream": "stdout",
       "text": [
        "\n",
        "Preparing Ganges - Bramaputra"
       ]
      },
      {
       "output_type": "stream",
       "stream": "stdout",
       "text": [
        "\n",
        "Preparing Yasai"
       ]
      },
      {
       "output_type": "stream",
       "stream": "stdout",
       "text": [
        "\n",
        "Preparing Brahamani"
       ]
      },
      {
       "output_type": "stream",
       "stream": "stdout",
       "text": [
        "\n",
        "Preparing Mahandi"
       ]
      },
      {
       "output_type": "stream",
       "stream": "stdout",
       "text": [
        "\n",
        "Preparing India North East Coast"
       ]
      },
      {
       "output_type": "stream",
       "stream": "stdout",
       "text": [
        "\n",
        "Preparing Godavari"
       ]
      },
      {
       "output_type": "stream",
       "stream": "stdout",
       "text": [
        "\n",
        "Preparing Krishna"
       ]
      },
      {
       "output_type": "stream",
       "stream": "stdout",
       "text": [
        "\n",
        "Preparing Pennar"
       ]
      },
      {
       "output_type": "stream",
       "stream": "stdout",
       "text": [
        "\n",
        "Preparing India East Coast"
       ]
      },
      {
       "output_type": "stream",
       "stream": "stdout",
       "text": [
        "\n",
        "Preparing Cauvery"
       ]
      },
      {
       "output_type": "stream",
       "stream": "stdout",
       "text": [
        "\n",
        "Preparing India South Coast"
       ]
      },
      {
       "output_type": "stream",
       "stream": "stdout",
       "text": [
        "\n",
        "Preparing India West Coast"
       ]
      },
      {
       "output_type": "stream",
       "stream": "stdout",
       "text": [
        "\n",
        "Preparing Tapti"
       ]
      },
      {
       "output_type": "stream",
       "stream": "stdout",
       "text": [
        "\n",
        "Preparing Narmada"
       ]
      },
      {
       "output_type": "stream",
       "stream": "stdout",
       "text": [
        "\n",
        "Preparing Mahi"
       ]
      },
      {
       "output_type": "stream",
       "stream": "stdout",
       "text": [
        "\n",
        "Preparing Sabarmati"
       ]
      },
      {
       "output_type": "stream",
       "stream": "stdout",
       "text": [
        "\n",
        "Preparing Indus"
       ]
      },
      {
       "output_type": "stream",
       "stream": "stdout",
       "text": [
        "\n",
        "Preparing Sri Lanka"
       ]
      },
      {
       "output_type": "stream",
       "stream": "stdout",
       "text": [
        "\n",
        "Preparing Fly"
       ]
      },
      {
       "output_type": "stream",
       "stream": "stdout",
       "text": [
        "\n",
        "Preparing Papua New Guinea Coast"
       ]
      },
      {
       "output_type": "stream",
       "stream": "stdout",
       "text": [
        "\n",
        "Preparing Wake - Marshall Islands"
       ]
      },
      {
       "output_type": "stream",
       "stream": "stdout",
       "text": [
        "\n",
        "difficulty saving Wake - Marshall Islands"
       ]
      },
      {
       "output_type": "stream",
       "stream": "stdout",
       "text": [
        "\n",
        "Preparing Japan\n",
        "Preparing Palau and East Indonesia"
       ]
      },
      {
       "output_type": "stream",
       "stream": "stdout",
       "text": [
        "\n",
        "Preparing North Marina Islands and Guam"
       ]
      },
      {
       "output_type": "stream",
       "stream": "stdout",
       "text": [
        "\n",
        "difficulty saving North Marina Islands and Guam"
       ]
      },
      {
       "output_type": "stream",
       "stream": "stdout",
       "text": [
        "\n",
        "Preparing Sepik\n",
        "Preparing Micronesia"
       ]
      },
      {
       "output_type": "stream",
       "stream": "stdout",
       "text": [
        "\n",
        "difficulty saving Micronesia"
       ]
      },
      {
       "output_type": "stream",
       "stream": "stdout",
       "text": [
        "\n",
        "Preparing Tuvalu\n",
        "difficulty saving Tuvalu"
       ]
      },
      {
       "output_type": "stream",
       "stream": "stdout",
       "text": [
        "\n",
        "Preparing Solomon Islands\n",
        "difficulty saving Solomon Islands"
       ]
      },
      {
       "output_type": "stream",
       "stream": "stdout",
       "text": [
        "\n",
        "Preparing Lena\n",
        "Preparing Siberia, North Coast"
       ]
      },
      {
       "output_type": "stream",
       "stream": "stdout",
       "text": [
        "\n",
        "Preparing Yenisey"
       ]
      },
      {
       "output_type": "stream",
       "stream": "stdout",
       "text": [
        "\n",
        "Preparing Kara Sea Coast"
       ]
      },
      {
       "output_type": "stream",
       "stream": "stdout",
       "text": [
        "\n",
        "Preparing Ob"
       ]
      },
      {
       "output_type": "stream",
       "stream": "stdout",
       "text": [
        "\n",
        "Preparing Siberia, West Coast"
       ]
      },
      {
       "output_type": "stream",
       "stream": "stdout",
       "text": [
        "\n",
        "Preparing Black Sea, South Coast"
       ]
      },
      {
       "output_type": "stream",
       "stream": "stdout",
       "text": [
        "\n",
        "Preparing Mediterranean Sea, East Coast"
       ]
      },
      {
       "output_type": "stream",
       "stream": "stdout",
       "text": [
        "\n",
        "Preparing Caspian Sea, South West Coast"
       ]
      },
      {
       "output_type": "stream",
       "stream": "stdout",
       "text": [
        "\n",
        "Preparing Tigris - Euphrates"
       ]
      },
      {
       "output_type": "stream",
       "stream": "stdout",
       "text": [
        "\n",
        "Preparing Eastern Jordan - Syria"
       ]
      },
      {
       "output_type": "stream",
       "stream": "stdout",
       "text": [
        "\n",
        "Preparing Dead Sea"
       ]
      },
      {
       "output_type": "stream",
       "stream": "stdout",
       "text": [
        "\n",
        "Preparing Sinai Peninsula"
       ]
      },
      {
       "output_type": "stream",
       "stream": "stdout",
       "text": [
        "\n",
        "difficulty saving Sinai Peninsula"
       ]
      },
      {
       "output_type": "stream",
       "stream": "stdout",
       "text": [
        "\n",
        "Preparing Red Sea, East Coast\n",
        "Preparing Arabian Peninsula"
       ]
      },
      {
       "output_type": "stream",
       "stream": "stdout",
       "text": [
        "\n",
        "Preparing Persian Gulf Coast"
       ]
      },
      {
       "output_type": "stream",
       "stream": "stdout",
       "text": [
        "\n",
        "Preparing Central Iran"
       ]
      },
      {
       "output_type": "stream",
       "stream": "stdout",
       "text": [
        "\n",
        "Preparing Arabian Sea Coast"
       ]
      },
      {
       "output_type": "stream",
       "stream": "stdout",
       "text": [
        "\n",
        "Preparing Hamun-i-Mashkel"
       ]
      },
      {
       "output_type": "stream",
       "stream": "stdout",
       "text": [
        "\n",
        "Preparing Helmand"
       ]
      },
      {
       "output_type": "stream",
       "stream": "stdout",
       "text": [
        "\n",
        "Preparing Farahrud"
       ]
      },
      {
       "output_type": "stream",
       "stream": "stdout",
       "text": [
        "\n",
        "Preparing Caspian Sea, East Coast"
       ]
      },
      {
       "output_type": "stream",
       "stream": "stdout",
       "text": [
        "\n",
        "Preparing Amu Darya"
       ]
      },
      {
       "output_type": "stream",
       "stream": "stdout",
       "text": [
        "\n",
        "Preparing Syr Darya"
       ]
      },
      {
       "output_type": "stream",
       "stream": "stdout",
       "text": [
        "\n",
        "Preparing Lake Balkash"
       ]
      },
      {
       "output_type": "stream",
       "stream": "stdout",
       "text": [
        "\n",
        "Preparing Senegal"
       ]
      },
      {
       "output_type": "stream",
       "stream": "stdout",
       "text": [
        "\n",
        "Preparing Niger"
       ]
      },
      {
       "output_type": "stream",
       "stream": "stdout",
       "text": [
        "\n",
        "Preparing Nile"
       ]
      },
      {
       "output_type": "stream",
       "stream": "stdout",
       "text": [
        "\n",
        "Preparing Shebelli - Juba"
       ]
      },
      {
       "output_type": "stream",
       "stream": "stdout",
       "text": [
        "\n",
        "Preparing Congo"
       ]
      },
      {
       "output_type": "stream",
       "stream": "stdout",
       "text": [
        "\n",
        "Preparing Zambezi"
       ]
      },
      {
       "output_type": "stream",
       "stream": "stdout",
       "text": [
        "\n",
        "Preparing Limpopo"
       ]
      },
      {
       "output_type": "stream",
       "stream": "stdout",
       "text": [
        "\n",
        "Preparing Orange"
       ]
      },
      {
       "output_type": "stream",
       "stream": "stdout",
       "text": [
        "\n",
        "Preparing Lake Chad"
       ]
      },
      {
       "output_type": "stream",
       "stream": "stdout",
       "text": [
        "\n",
        "Preparing Rift Valley"
       ]
      },
      {
       "output_type": "stream",
       "stream": "stdout",
       "text": [
        "\n",
        "Preparing Africa, South Interior"
       ]
      },
      {
       "output_type": "stream",
       "stream": "stdout",
       "text": [
        "\n",
        "Preparing Africa, North Interior"
       ]
      },
      {
       "output_type": "stream",
       "stream": "stdout",
       "text": [
        "\n",
        "Preparing Madasgacar"
       ]
      },
      {
       "output_type": "stream",
       "stream": "stdout",
       "text": [
        "\n",
        "Preparing South Africa, South Coast"
       ]
      },
      {
       "output_type": "stream",
       "stream": "stdout",
       "text": [
        "\n",
        "Preparing Africa, Indian Ocean Coast"
       ]
      },
      {
       "output_type": "stream",
       "stream": "stdout",
       "text": [
        "\n",
        "Preparing Africa, East Central Coast"
       ]
      },
      {
       "output_type": "stream",
       "stream": "stdout",
       "text": [
        "\n",
        "Preparing Africa, Red Sea - Gulf of Aden Coast"
       ]
      },
      {
       "output_type": "stream",
       "stream": "stdout",
       "text": [
        "\n",
        "Preparing Mediterranean South Coast"
       ]
      },
      {
       "output_type": "stream",
       "stream": "stdout",
       "text": [
        "\n",
        "Preparing Africa, West Coast"
       ]
      },
      {
       "output_type": "stream",
       "stream": "stdout",
       "text": [
        "\n",
        "Preparing Gulf of Guinea"
       ]
      },
      {
       "output_type": "stream",
       "stream": "stdout",
       "text": [
        "\n",
        "Preparing Angola, Coast"
       ]
      },
      {
       "output_type": "stream",
       "stream": "stdout",
       "text": [
        "\n",
        "Preparing South Africa, West Coast"
       ]
      },
      {
       "output_type": "stream",
       "stream": "stdout",
       "text": [
        "\n",
        "Preparing Namibia, Coast"
       ]
      },
      {
       "output_type": "stream",
       "stream": "stdout",
       "text": [
        "\n",
        "Preparing Africa, North West Coast"
       ]
      },
      {
       "output_type": "stream",
       "stream": "stdout",
       "text": [
        "\n",
        "Preparing Volta"
       ]
      },
      {
       "output_type": "stream",
       "stream": "stdout",
       "text": [
        "\n",
        "Preparing Australia, West Coast"
       ]
      },
      {
       "output_type": "stream",
       "stream": "stdout",
       "text": [
        "\n",
        "Preparing Australia, North Coast"
       ]
      },
      {
       "output_type": "stream",
       "stream": "stdout",
       "text": [
        "\n",
        "Preparing Australia, Interior"
       ]
      },
      {
       "output_type": "stream",
       "stream": "stdout",
       "text": [
        "\n",
        "Preparing Australia, South Coast"
       ]
      },
      {
       "output_type": "stream",
       "stream": "stdout",
       "text": [
        "\n",
        "Preparing Australia, East Coast"
       ]
      },
      {
       "output_type": "stream",
       "stream": "stdout",
       "text": [
        "\n",
        "Preparing Murray - Darling"
       ]
      },
      {
       "output_type": "stream",
       "stream": "stdout",
       "text": [
        "\n",
        "Preparing South Pacific Islands"
       ]
      },
      {
       "output_type": "stream",
       "stream": "stdout",
       "text": [
        "\n",
        "Preparing New Zealand"
       ]
      },
      {
       "output_type": "stream",
       "stream": "stdout",
       "text": [
        "\n",
        "Preparing Tasmania"
       ]
      },
      {
       "output_type": "stream",
       "stream": "stdout",
       "text": [
        "\n"
       ]
      },
      {
       "output_type": "stream",
       "stream": "stderr",
       "text": [
        "-c:87: RuntimeWarning: divide by zero encountered in double_scalars\n",
        "-c:88: RuntimeWarning: divide by zero encountered in double_scalars\n"
       ]
      }
     ],
     "prompt_number": 12
    },
    {
     "cell_type": "code",
     "collapsed": false,
     "input": [
      "time_exp_vals_balls(rp_data_collect_cc, rp_data_collect_socio, rp_data_collect_both, RPs,\n",
      "                            gcms, data[unit]['name'], ssp, rcp,\n",
      "                            time_line, period_plot,  'Affected people per year [-]',\n",
      "                            png_file=os.path.join(png_folder, png_file))\n",
      "    "
     ],
     "language": "python",
     "metadata": {},
     "outputs": [],
     "prompt_number": 13
    },
    {
     "cell_type": "code",
     "collapsed": false,
     "input": [],
     "language": "python",
     "metadata": {},
     "outputs": [],
     "prompt_number": 13
    }
   ],
   "metadata": {}
  }
 ]
}